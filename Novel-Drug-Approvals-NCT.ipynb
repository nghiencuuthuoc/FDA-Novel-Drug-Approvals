{
 "cells": [
  {
   "cell_type": "markdown",
   "id": "f315eec4",
   "metadata": {},
   "source": [
    "<a href=\"https://github.com/nghiencuuthuoc/PharmApp/PharmApp.ipynb\" target=\"_parent\"><img src=\"https://colab.research.google.com/assets/colab-badge.svg\" alt=\"Open In Colab\"/></a>\n",
    "\n",
    "![](https://raw.githubusercontent.com/nghiencuuthuoc/PharmApp/master/PharmApp-logo.png)\n",
    "# PharmApp - Drug Discovery and Development\n",
    "Copyright 2023 | Nghiên Cứu Thuốc | RD Pharma Plus\n",
    "\n",
    "Email: nghiencuuthuoc@gmail.com | info@nghiencuuthuoc.com\n",
    "\n",
    "Web: http://www.nghiencuuthuoc.com\n",
    "\n",
    "See more: https://twitter.com/nghiencuuthuoc | https://facebook.com/nghiencuuthuoc"
   ]
  },
  {
   "cell_type": "markdown",
   "id": "f4d93855",
   "metadata": {},
   "source": [
    "# CÔNG CỤ: THUỐC MỚI CẤP PHÉP CỦA FDA"
   ]
  },
  {
   "cell_type": "markdown",
   "id": "8b854082",
   "metadata": {},
   "source": [
    "# Install package need"
   ]
  },
  {
   "cell_type": "code",
   "execution_count": null,
   "id": "b6eb77af",
   "metadata": {},
   "outputs": [],
   "source": [
    "!pip install pyexcel pyexcel-xlsx pandas"
   ]
  },
  {
   "cell_type": "markdown",
   "id": "75f9349c",
   "metadata": {},
   "source": [
    "# Code orginal"
   ]
  },
  {
   "cell_type": "code",
   "execution_count": null,
   "id": "ba562441",
   "metadata": {},
   "outputs": [],
   "source": [
    "!python \"Novel Drug Approvals.py\""
   ]
  },
  {
   "cell_type": "markdown",
   "id": "11fc0ae6",
   "metadata": {},
   "source": [
    "# Novel Drug Approvals with input year"
   ]
  },
  {
   "cell_type": "code",
   "execution_count": 2,
   "id": "0a8ad7df",
   "metadata": {},
   "outputs": [
    {
     "name": "stdout",
     "output_type": "stream",
     "text": [
      "Enter year: 2023\n",
      "Done!\n"
     ]
    }
   ],
   "source": [
    "# Novel Drug Approvals with input year\n",
    "# enter year\n",
    "year = str(input(\"Enter year: \"))\n",
    "url = \"https://www.fda.gov/drugs/new-drugs-fda-cders-new-molecular-entities-and-new-therapeutic-biological-products/novel-drug-approvals-\" + year\n",
    "name_file_cvs = year + \".csv\"\n",
    "name_file_excel = year + \".xlsx\"\n",
    "data_year = \"data_\" + year\n",
    "\n",
    "# get and save csv file\n",
    "import pandas as pd\n",
    "df = pd.read_html(url)\n",
    "df1 = df[0]\n",
    "df2 = pd.DataFrame(df1)\n",
    "data_year = df2.to_csv(name_file_cvs, index=None)\n",
    "\n",
    "# convert csv to xlsx\n",
    "from openpyxl import Workbook\n",
    "import csv\n",
    "wb = Workbook()\n",
    "ws = wb.active\n",
    "with open(name_file_cvs, 'r') as f:\n",
    "    for row in csv.reader(f):\n",
    "        ws.append(row)\n",
    "wb.save(name_file_excel)\n",
    "print(\"Done!\")\n",
    "\n",
    "# merge all csv to xlsx\n",
    "from pyexcel.cookbook import merge_all_to_a_book\n",
    "# import pyexcel.ext.xlsx # no longer required if you use pyexcel >= 0.2.2 \n",
    "import glob\n",
    "\n",
    "merge_all_to_a_book(glob.glob(\"*.csv\"), \"_Novel_Drug_Approval_Data_All.xlsx\")"
   ]
  },
  {
   "cell_type": "markdown",
   "id": "d26f5818",
   "metadata": {},
   "source": [
    "# Novel Drug Approvals with function"
   ]
  },
  {
   "cell_type": "code",
   "execution_count": 26,
   "id": "422a86d5",
   "metadata": {},
   "outputs": [],
   "source": [
    "def Novel_Drug_Approval(year):\n",
    "    # year = str(input(\"Enter year: \"))\n",
    "    year_str = str(year)\n",
    "    url = \"https://www.fda.gov/drugs/new-drugs-fda-cders-new-molecular-entities-and-new-therapeutic-biological-products/novel-drug-approvals-\" + year_str\n",
    "    name_file_cvs = year_str + \".csv\"\n",
    "    name_file_excel = year_str + \".xlsx\"\n",
    "    data_year = \"data_\" + year_str\n",
    "\n",
    "    # get and save csv file\n",
    "    import pandas as pd\n",
    "    df = pd.read_html(url)\n",
    "    df1 = df[0]\n",
    "    df2 = pd.DataFrame(df1)\n",
    "    data_year = df2.to_csv(name_file_cvs, index=None)\n",
    "\n",
    "    # convert csv to xlsx\n",
    "    from openpyxl import Workbook\n",
    "    import csv\n",
    "    wb = Workbook()\n",
    "    ws = wb.active\n",
    "    with open(name_file_cvs, 'r') as f:\n",
    "        for row in csv.reader(f):\n",
    "            ws.append(row)\n",
    "    wb.save(name_file_excel)\n",
    "Novel_Drug_Approval(2023)"
   ]
  },
  {
   "cell_type": "markdown",
   "id": "77ddd798",
   "metadata": {},
   "source": [
    "# Novel Drug Approvals for 2023"
   ]
  },
  {
   "cell_type": "code",
   "execution_count": 15,
   "id": "337320b1",
   "metadata": {},
   "outputs": [],
   "source": [
    "# get and save csv file\n",
    "url = \"https://www.fda.gov/drugs/new-drugs-fda-cders-new-molecular-entities-and-new-therapeutic-biological-products/novel-drug-approvals-2023\"\n",
    "import pandas as pd\n",
    "\n",
    "df = pd.read_html(url)\n",
    "df1 = df[0]\n",
    "df2 = pd.DataFrame(df1)\n",
    "data_2023 = df2.to_csv('2023.csv', index=None)\n",
    "\n",
    "\n",
    "# convert csv to xlsx\n",
    "from openpyxl import Workbook\n",
    "import csv\n",
    "wb = Workbook()\n",
    "ws = wb.active\n",
    "with open('2023.csv', 'r') as f:\n",
    "    for row in csv.reader(f):\n",
    "        ws.append(row)\n",
    "wb.save('2023.xlsx')"
   ]
  },
  {
   "cell_type": "markdown",
   "id": "189675de",
   "metadata": {},
   "source": [
    "# Novel Drug Approvals for 2022"
   ]
  },
  {
   "cell_type": "code",
   "execution_count": 3,
   "id": "dbb5aa25",
   "metadata": {},
   "outputs": [],
   "source": [
    "url = \"https://www.fda.gov/drugs/new-drugs-fda-cders-new-molecular-entities-and-new-therapeutic-biological-products/novel-drug-approvals-2022\""
   ]
  },
  {
   "cell_type": "code",
   "execution_count": 4,
   "id": "2ab28a2b",
   "metadata": {},
   "outputs": [],
   "source": [
    "import pandas as pd\n",
    "\n",
    "def Novel_Drug_Approval_2022(url):\n",
    "\tdf = pd.read_html(url)\n",
    "\tdf1 = df[0]\n",
    "\tdf2 = pd.DataFrame(df1)\n",
    "\tdata_2022 = df2.to_csv('2022.csv', index=None)\n",
    "\treturn data_2022"
   ]
  },
  {
   "cell_type": "code",
   "execution_count": 5,
   "id": "c9526cce",
   "metadata": {},
   "outputs": [],
   "source": [
    "Novel_Drug_Approval_2022(url)"
   ]
  },
  {
   "cell_type": "code",
   "execution_count": 8,
   "id": "09ee432d",
   "metadata": {},
   "outputs": [],
   "source": [
    "# convert csv to xlsx\n",
    "from openpyxl import Workbook\n",
    "import csv\n",
    "\n",
    "\n",
    "wb = Workbook()\n",
    "ws = wb.active\n",
    "with open('2022.csv', 'r') as f:\n",
    "    for row in csv.reader(f):\n",
    "        ws.append(row)\n",
    "wb.save('2022.xlsx')"
   ]
  },
  {
   "cell_type": "markdown",
   "id": "498f1c41",
   "metadata": {},
   "source": [
    "# from 2015 to 2021"
   ]
  },
  {
   "cell_type": "code",
   "execution_count": null,
   "id": "c41756cb",
   "metadata": {},
   "outputs": [],
   "source": [
    "# %load \"Novel Drug Approvals.py\"\n",
    "import pandas as pd\n",
    "\n",
    "def Novel_Drug_Approval_2021(url):\n",
    "\tdf = pd.read_html(url)\n",
    "\tdf1 = df[0]\n",
    "\tdf2 = pd.DataFrame(df1)\n",
    "\tdata_2021 = df2.to_csv('2021.csv', index=None)\n",
    "\treturn data_2021\n",
    " \n",
    "def Novel_Drug_Approval_2020(url):\n",
    "\tdf = pd.read_html(url)\n",
    "\tdf1 = df[0]\n",
    "\tdf2 = pd.DataFrame(df1)\n",
    "\tdata_2020 = df2.to_csv('2020.csv', index=None)\n",
    "\treturn data_2020\n",
    "\n",
    "def Novel_Drug_Approval_2019(url):\n",
    "\tdf = pd.read_html(url)\n",
    "\tdf1 = df[0]\n",
    "\tdf2 = pd.DataFrame(df1)\n",
    "\tdata_2019 = df2.to_csv('2019.csv', index=None)\n",
    "\treturn data_2019\n",
    "\n",
    "def Novel_Drug_Approval_2018(url):\n",
    "\tdf = pd.read_html(url)\n",
    "\tdf1 = df[0]\n",
    "\tdf2 = pd.DataFrame(df1)\n",
    "\tdata_2018 = df2.to_csv('2018.csv', index=None)\n",
    "\treturn data_2018\n",
    "\n",
    "def Novel_Drug_Approval_2017(url):\n",
    "\tdf = pd.read_html(url)\n",
    "\tdf1 = df[0]\n",
    "\tdf2 = pd.DataFrame(df1)\n",
    "\tdata_2017 = df2.to_csv('2017.csv', index=None)\n",
    "\treturn data_2017\n",
    "\n",
    "def Novel_Drug_Approval_2016(url):\n",
    "\tdf = pd.read_html(url)\n",
    "\tdf1 = df[0]\n",
    "\tdf2 = pd.DataFrame(df1)\n",
    "\tdata_2016 = df2.to_csv('2016.csv', index=None)\n",
    "\treturn data_2016\n",
    "\n",
    "def Novel_Drug_Approval_2015(url):\n",
    "\tdf = pd.read_html(url)\n",
    "\tdf1 = df[0]\n",
    "\tdf2 = pd.DataFrame(df1)\n",
    "\tdata_2015 = df2.to_csv('2015.csv', index=None)\n",
    "\treturn data_2015\n",
    "\n",
    "\n",
    "print(Novel_Drug_Approval_2021('https://www.fda.gov/drugs/new-drugs-fda-cders-new-molecular-entities-and-new-therapeutic-biological-products/novel-drug-approvals-2021'))\n",
    "print(Novel_Drug_Approval_2020('https://www.fda.gov/drugs/new-drugs-fda-cders-new-molecular-entities-and-new-therapeutic-biological-products/novel-drug-approvals-2020'))\n",
    "print(Novel_Drug_Approval_2019('https://www.fda.gov/drugs/new-drugs-fda-cders-new-molecular-entities-and-new-therapeutic-biological-products/novel-drug-approvals-2019'))\n",
    "print(Novel_Drug_Approval_2018('https://www.fda.gov/drugs/new-drugs-fda-cders-new-molecular-entities-and-new-therapeutic-biological-products/novel-drug-approvals-2018'))\n",
    "print(Novel_Drug_Approval_2017('https://www.fda.gov/drugs/new-drugs-fda-cders-new-molecular-entities-and-new-therapeutic-biological-products/novel-drug-approvals-2017'))\n",
    "print(Novel_Drug_Approval_2016('https://www.fda.gov/drugs/new-drugs-fda-cders-new-molecular-entities-and-new-therapeutic-biological-products/novel-drug-approvals-2016'))\n",
    "print(Novel_Drug_Approval_2015('https://www.fda.gov/drugs/new-drugs-fda-cders-new-molecular-entities-and-new-therapeutic-biological-products/novel-drug-approvals-2015'))\n",
    "      "
   ]
  },
  {
   "cell_type": "markdown",
   "id": "0df39333",
   "metadata": {},
   "source": [
    "# Merge all csv to xlsx"
   ]
  },
  {
   "cell_type": "code",
   "execution_count": 11,
   "id": "5ef6bcd0",
   "metadata": {},
   "outputs": [],
   "source": [
    "# merge all csv to xlsx\n",
    "from pyexcel.cookbook import merge_all_to_a_book\n",
    "# import pyexcel.ext.xlsx # no longer required if you use pyexcel >= 0.2.2 \n",
    "import glob\n",
    "\n",
    "merge_all_to_a_book(glob.glob(\"*.csv\"), \"_Novel_Drug_Approval_Data_All.xlsx\")"
   ]
  },
  {
   "cell_type": "code",
   "execution_count": null,
   "id": "87095737",
   "metadata": {},
   "outputs": [],
   "source": []
  }
 ],
 "metadata": {
  "kernelspec": {
   "display_name": "Python 3 (ipykernel)",
   "language": "python",
   "name": "python3"
  },
  "language_info": {
   "codemirror_mode": {
    "name": "ipython",
    "version": 3
   },
   "file_extension": ".py",
   "mimetype": "text/x-python",
   "name": "python",
   "nbconvert_exporter": "python",
   "pygments_lexer": "ipython3",
   "version": "3.9.6"
  }
 },
 "nbformat": 4,
 "nbformat_minor": 5
}
