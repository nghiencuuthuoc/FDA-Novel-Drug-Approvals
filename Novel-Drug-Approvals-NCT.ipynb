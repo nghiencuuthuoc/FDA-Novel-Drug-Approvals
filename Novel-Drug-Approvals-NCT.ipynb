{
 "cells": [
  {
   "cell_type": "markdown",
   "id": "f315eec4",
   "metadata": {},
   "source": [
    "<a href=\"https://github.com/nghiencuuthuoc/PharmApp/PharmApp.ipynb\" target=\"_parent\"><img src=\"https://colab.research.google.com/assets/colab-badge.svg\" alt=\"Open In Colab\"/></a>\n",
    "\n",
    "![](https://raw.githubusercontent.com/nghiencuuthuoc/PharmApp/master/PharmApp-logo.png)\n",
    "# PharmApp - Drug Discovery and Development\n",
    "Copyright 2023 | Nghiên Cứu Thuốc | RD Pharma Plus\n",
    "\n",
    "Email: nghiencuuthuoc@gmail.com | info@nghiencuuthuoc.com\n",
    "\n",
    "Web: http://www.nghiencuuthuoc.com\n",
    "\n",
    "See more: https://twitter.com/nghiencuuthuoc | https://facebook.com/nghiencuuthuoc"
   ]
  },
  {
   "cell_type": "markdown",
   "id": "f4d93855",
   "metadata": {},
   "source": [
    "# CÔNG CỤ LẤY DANH MỤC THUỐC MỚI CẤP PHÉP CỦA FDA THEO NĂM"
   ]
  },
  {
   "cell_type": "markdown",
   "id": "8b854082",
   "metadata": {},
   "source": [
    "## Install package need"
   ]
  },
  {
   "cell_type": "code",
   "execution_count": null,
   "id": "b6eb77af",
   "metadata": {},
   "outputs": [],
   "source": [
    "!pip install pyexcel pyexcel-xlsx pandas"
   ]
  },
  {
   "cell_type": "markdown",
   "id": "75f9349c",
   "metadata": {},
   "source": [
    "## Code orginal"
   ]
  },
  {
   "cell_type": "code",
   "execution_count": null,
   "id": "ba562441",
   "metadata": {},
   "outputs": [],
   "source": [
    "!python \"Novel Drug Approvals.py\""
   ]
  },
  {
   "cell_type": "markdown",
   "id": "11fc0ae6",
   "metadata": {},
   "source": [
    "## Novel Drug Approvals with input year"
   ]
  },
  {
   "cell_type": "code",
   "execution_count": 12,
   "id": "0a8ad7df",
   "metadata": {},
   "outputs": [
    {
     "name": "stdout",
     "output_type": "stream",
     "text": [
      "Enter year: 2023\n",
      "Done!\n"
     ]
    }
   ],
   "source": [
    "# Novel Drug Approvals with input year\n",
    "# enter year\n",
    "year = str(input(\"Enter year: \"))\n",
    "url = \"https://www.fda.gov/drugs/new-drugs-fda-cders-new-molecular-entities-and-new-therapeutic-biological-products/novel-drug-approvals-\" + year\n",
    "name_file_cvs = year + \".csv\"\n",
    "name_file_excel = year + \".xlsx\"\n",
    "data_year = \"data_\" + year\n",
    "\n",
    "# get and save csv file\n",
    "import pandas as pd\n",
    "pd.set_option(\"display.max_rows\", None, \"display.max_columns\", None)\n",
    "df = pd.read_html(url)\n",
    "df1 = df[0]\n",
    "df2 = pd.DataFrame(df1)\n",
    "data_year = df2.to_csv(name_file_cvs, index=None)\n",
    "\n",
    "# convert csv to xlsx\n",
    "from openpyxl import Workbook\n",
    "import csv\n",
    "wb = Workbook()\n",
    "ws = wb.active\n",
    "with open(name_file_cvs, 'r') as f:\n",
    "    for row in csv.reader(f):\n",
    "        ws.append(row)\n",
    "wb.save(name_file_excel)\n",
    "print(\"Done!\")\n",
    "\n",
    "# merge all csv to xlsx\n",
    "from pyexcel.cookbook import merge_all_to_a_book\n",
    "# import pyexcel.ext.xlsx # no longer required if you use pyexcel >= 0.2.2 \n",
    "import glob\n",
    "\n",
    "merge_all_to_a_book(glob.glob(\"*.csv\"), \"_Novel_Drug_Approval_Data_All.xlsx\")"
   ]
  },
  {
   "cell_type": "markdown",
   "id": "2ea51b5b",
   "metadata": {},
   "source": [
    "## View Novel Drug Approvals Data"
   ]
  },
  {
   "cell_type": "markdown",
   "id": "d27eb864",
   "metadata": {},
   "source": [
    "### view after run done"
   ]
  },
  {
   "cell_type": "code",
   "execution_count": 16,
   "id": "faa2cb12",
   "metadata": {},
   "outputs": [
    {
     "data": {
      "text/html": [
       "<div>\n",
       "<style scoped>\n",
       "    .dataframe tbody tr th:only-of-type {\n",
       "        vertical-align: middle;\n",
       "    }\n",
       "\n",
       "    .dataframe tbody tr th {\n",
       "        vertical-align: top;\n",
       "    }\n",
       "\n",
       "    .dataframe thead th {\n",
       "        text-align: right;\n",
       "    }\n",
       "</style>\n",
       "<table border=\"1\" class=\"dataframe\">\n",
       "  <thead>\n",
       "    <tr style=\"text-align: right;\">\n",
       "      <th></th>\n",
       "      <th>No.</th>\n",
       "      <th>Drug Name</th>\n",
       "      <th>Active Ingredient</th>\n",
       "      <th>Approval Date</th>\n",
       "      <th>FDA-approved use on approval date*</th>\n",
       "    </tr>\n",
       "  </thead>\n",
       "  <tbody>\n",
       "    <tr>\n",
       "      <th>0</th>\n",
       "      <td>1.0</td>\n",
       "      <td>Leqembi</td>\n",
       "      <td>lecanemab-irmb</td>\n",
       "      <td>1/6/2023</td>\n",
       "      <td>To treat Alzheimer’s diseasePress Release</td>\n",
       "    </tr>\n",
       "    <tr>\n",
       "      <th>1</th>\n",
       "      <td>2.0</td>\n",
       "      <td>Brenzavvy</td>\n",
       "      <td>bexagliflozin</td>\n",
       "      <td>1/20/2023</td>\n",
       "      <td>To improve glycemic control in adults with typ...</td>\n",
       "    </tr>\n",
       "    <tr>\n",
       "      <th>2</th>\n",
       "      <td>3.0</td>\n",
       "      <td>Jaypirca</td>\n",
       "      <td>pirtobrutinib</td>\n",
       "      <td>1/27/2023</td>\n",
       "      <td>To treat relapsed or refractory mantle cell ly...</td>\n",
       "    </tr>\n",
       "    <tr>\n",
       "      <th>3</th>\n",
       "      <td>4.0</td>\n",
       "      <td>Orserdu</td>\n",
       "      <td>elacestrant</td>\n",
       "      <td>1/27/2023</td>\n",
       "      <td>To treat estrogen receptor-positive, human epi...</td>\n",
       "    </tr>\n",
       "    <tr>\n",
       "      <th>4</th>\n",
       "      <td>5.0</td>\n",
       "      <td>Jesduvroq</td>\n",
       "      <td>daprodustat</td>\n",
       "      <td>2/1/2023</td>\n",
       "      <td>To treat anemia caused by chronic kidney disea...</td>\n",
       "    </tr>\n",
       "    <tr>\n",
       "      <th>5</th>\n",
       "      <td>6.0</td>\n",
       "      <td>Lamzede</td>\n",
       "      <td>velmanase alfa-tycv</td>\n",
       "      <td>2/16/2023</td>\n",
       "      <td>To treat non-central nervous system manifestat...</td>\n",
       "    </tr>\n",
       "    <tr>\n",
       "      <th>6</th>\n",
       "      <td>7.0</td>\n",
       "      <td>Filspari</td>\n",
       "      <td>sparsentan</td>\n",
       "      <td>2/17/2023</td>\n",
       "      <td>To reduce proteinuria in adults with primary i...</td>\n",
       "    </tr>\n",
       "    <tr>\n",
       "      <th>7</th>\n",
       "      <td>8.0</td>\n",
       "      <td>Skyclarys</td>\n",
       "      <td>omaveloxolone</td>\n",
       "      <td>2/28/2023</td>\n",
       "      <td>To treat Friedrich’s ataxia</td>\n",
       "    </tr>\n",
       "    <tr>\n",
       "      <th>8</th>\n",
       "      <td>9.0</td>\n",
       "      <td>Zavzpret</td>\n",
       "      <td>zavegepant</td>\n",
       "      <td>3/9/2023</td>\n",
       "      <td>To treat migraine</td>\n",
       "    </tr>\n",
       "    <tr>\n",
       "      <th>9</th>\n",
       "      <td>10.0</td>\n",
       "      <td>Daybue</td>\n",
       "      <td>trofinetide</td>\n",
       "      <td>3/10/2023</td>\n",
       "      <td>To treat Rett syndrome</td>\n",
       "    </tr>\n",
       "    <tr>\n",
       "      <th>10</th>\n",
       "      <td>11.0</td>\n",
       "      <td>Zynyz</td>\n",
       "      <td>retifanlimab-dlwr</td>\n",
       "      <td>3/22/2023</td>\n",
       "      <td>To treat metastatic or recurrent locally advan...</td>\n",
       "    </tr>\n",
       "    <tr>\n",
       "      <th>11</th>\n",
       "      <td>12.0</td>\n",
       "      <td>Rezzayo</td>\n",
       "      <td>rezafungin</td>\n",
       "      <td>3/22/2023</td>\n",
       "      <td>To treat candidemia and invasive candidiasis</td>\n",
       "    </tr>\n",
       "    <tr>\n",
       "      <th>12</th>\n",
       "      <td>13.0</td>\n",
       "      <td>Joenja</td>\n",
       "      <td>leniolisib</td>\n",
       "      <td>3/24/2023</td>\n",
       "      <td>To treat activated phosphoinositide 3-kinase d...</td>\n",
       "    </tr>\n",
       "  </tbody>\n",
       "</table>\n",
       "</div>"
      ],
      "text/plain": [
       "     No.  Drug Name    Active Ingredient Approval Date  \\\n",
       "0    1.0    Leqembi       lecanemab-irmb      1/6/2023   \n",
       "1    2.0  Brenzavvy        bexagliflozin     1/20/2023   \n",
       "2    3.0   Jaypirca        pirtobrutinib     1/27/2023   \n",
       "3    4.0    Orserdu          elacestrant     1/27/2023   \n",
       "4    5.0  Jesduvroq          daprodustat      2/1/2023   \n",
       "5    6.0    Lamzede  velmanase alfa-tycv     2/16/2023   \n",
       "6    7.0   Filspari           sparsentan     2/17/2023   \n",
       "7    8.0  Skyclarys        omaveloxolone     2/28/2023   \n",
       "8    9.0   Zavzpret           zavegepant      3/9/2023   \n",
       "9   10.0     Daybue          trofinetide     3/10/2023   \n",
       "10  11.0      Zynyz    retifanlimab-dlwr     3/22/2023   \n",
       "11  12.0    Rezzayo           rezafungin     3/22/2023   \n",
       "12  13.0     Joenja           leniolisib     3/24/2023   \n",
       "\n",
       "                   FDA-approved use on approval date*  \n",
       "0           To treat Alzheimer’s diseasePress Release  \n",
       "1   To improve glycemic control in adults with typ...  \n",
       "2   To treat relapsed or refractory mantle cell ly...  \n",
       "3   To treat estrogen receptor-positive, human epi...  \n",
       "4   To treat anemia caused by chronic kidney disea...  \n",
       "5   To treat non-central nervous system manifestat...  \n",
       "6   To reduce proteinuria in adults with primary i...  \n",
       "7                         To treat Friedrich’s ataxia  \n",
       "8                                   To treat migraine  \n",
       "9                              To treat Rett syndrome  \n",
       "10  To treat metastatic or recurrent locally advan...  \n",
       "11       To treat candidemia and invasive candidiasis  \n",
       "12  To treat activated phosphoinositide 3-kinase d...  "
      ]
     },
     "execution_count": 16,
     "metadata": {},
     "output_type": "execute_result"
    }
   ],
   "source": [
    "import pandas as pd\n",
    "pd.set_option(\"display.max_rows\", None, \"display.max_columns\", None)\n",
    "df2"
   ]
  },
  {
   "cell_type": "code",
   "execution_count": null,
   "id": "af21161e",
   "metadata": {},
   "outputs": [],
   "source": [
    "from pivottablejs import pivot_ui\n",
    "\n",
    "pivot_ui(df2)"
   ]
  },
  {
   "cell_type": "code",
   "execution_count": null,
   "id": "c44e8dac",
   "metadata": {},
   "outputs": [],
   "source": [
    "!pip install pandasgui"
   ]
  },
  {
   "cell_type": "code",
   "execution_count": 20,
   "id": "cddcaa98",
   "metadata": {},
   "outputs": [
    {
     "name": "stderr",
     "output_type": "stream",
     "text": [
      "PandasGUI INFO — pandasgui.gui — Opening PandasGUI\n"
     ]
    },
    {
     "data": {
      "text/plain": [
       "<pandasgui.gui.PandasGui at 0x2497f70d040>"
      ]
     },
     "execution_count": 20,
     "metadata": {},
     "output_type": "execute_result"
    }
   ],
   "source": [
    "from pandasgui import show\n",
    "\n",
    "show(df2)"
   ]
  },
  {
   "cell_type": "code",
   "execution_count": 22,
   "id": "a21565b1",
   "metadata": {},
   "outputs": [],
   "source": [
    "import tabloo\n",
    "\n",
    "tabloo.show(df2)"
   ]
  },
  {
   "cell_type": "markdown",
   "id": "36013412",
   "metadata": {},
   "source": [
    "### view file excel with year"
   ]
  },
  {
   "cell_type": "code",
   "execution_count": 3,
   "id": "da332a30",
   "metadata": {},
   "outputs": [
    {
     "name": "stdout",
     "output_type": "stream",
     "text": [
      "Enter year: 2023\n"
     ]
    },
    {
     "data": {
      "text/html": [
       "<div>\n",
       "<style scoped>\n",
       "    .dataframe tbody tr th:only-of-type {\n",
       "        vertical-align: middle;\n",
       "    }\n",
       "\n",
       "    .dataframe tbody tr th {\n",
       "        vertical-align: top;\n",
       "    }\n",
       "\n",
       "    .dataframe thead th {\n",
       "        text-align: right;\n",
       "    }\n",
       "</style>\n",
       "<table border=\"1\" class=\"dataframe\">\n",
       "  <thead>\n",
       "    <tr style=\"text-align: right;\">\n",
       "      <th></th>\n",
       "      <th>No.</th>\n",
       "      <th>Drug Name</th>\n",
       "      <th>Active Ingredient</th>\n",
       "      <th>Approval Date</th>\n",
       "      <th>FDA-approved use on approval date*</th>\n",
       "    </tr>\n",
       "  </thead>\n",
       "  <tbody>\n",
       "    <tr>\n",
       "      <th>0</th>\n",
       "      <td>1.0</td>\n",
       "      <td>Leqembi</td>\n",
       "      <td>lecanemab-irmb</td>\n",
       "      <td>1/6/2023</td>\n",
       "      <td>To treat Alzheimerâ€™s diseasePress Release</td>\n",
       "    </tr>\n",
       "    <tr>\n",
       "      <th>1</th>\n",
       "      <td>2.0</td>\n",
       "      <td>Brenzavvy</td>\n",
       "      <td>bexagliflozin</td>\n",
       "      <td>1/20/2023</td>\n",
       "      <td>To improve glycemic control in adults with typ...</td>\n",
       "    </tr>\n",
       "    <tr>\n",
       "      <th>2</th>\n",
       "      <td>3.0</td>\n",
       "      <td>Jaypirca</td>\n",
       "      <td>pirtobrutinib</td>\n",
       "      <td>1/27/2023</td>\n",
       "      <td>To treat relapsed or refractory mantle cell ly...</td>\n",
       "    </tr>\n",
       "    <tr>\n",
       "      <th>3</th>\n",
       "      <td>4.0</td>\n",
       "      <td>Orserdu</td>\n",
       "      <td>elacestrant</td>\n",
       "      <td>1/27/2023</td>\n",
       "      <td>To treat estrogen receptor-positive, human epi...</td>\n",
       "    </tr>\n",
       "    <tr>\n",
       "      <th>4</th>\n",
       "      <td>5.0</td>\n",
       "      <td>Jesduvroq</td>\n",
       "      <td>daprodustat</td>\n",
       "      <td>2/1/2023</td>\n",
       "      <td>To treat anemia caused by chronic kidney disea...</td>\n",
       "    </tr>\n",
       "    <tr>\n",
       "      <th>5</th>\n",
       "      <td>6.0</td>\n",
       "      <td>Lamzede</td>\n",
       "      <td>velmanase alfa-tycv</td>\n",
       "      <td>2/16/2023</td>\n",
       "      <td>To treat non-central nervous system manifestat...</td>\n",
       "    </tr>\n",
       "    <tr>\n",
       "      <th>6</th>\n",
       "      <td>7.0</td>\n",
       "      <td>Filspari</td>\n",
       "      <td>sparsentan</td>\n",
       "      <td>2/17/2023</td>\n",
       "      <td>To reduce proteinuria in adults with primary i...</td>\n",
       "    </tr>\n",
       "    <tr>\n",
       "      <th>7</th>\n",
       "      <td>8.0</td>\n",
       "      <td>Skyclarys</td>\n",
       "      <td>omaveloxolone</td>\n",
       "      <td>2/28/2023</td>\n",
       "      <td>To treat Friedrichâ€™s ataxia</td>\n",
       "    </tr>\n",
       "    <tr>\n",
       "      <th>8</th>\n",
       "      <td>9.0</td>\n",
       "      <td>Zavzpret</td>\n",
       "      <td>zavegepant</td>\n",
       "      <td>3/9/2023</td>\n",
       "      <td>To treat migraine</td>\n",
       "    </tr>\n",
       "    <tr>\n",
       "      <th>9</th>\n",
       "      <td>10.0</td>\n",
       "      <td>Daybue</td>\n",
       "      <td>trofinetide</td>\n",
       "      <td>3/10/2023</td>\n",
       "      <td>To treat Rett syndrome</td>\n",
       "    </tr>\n",
       "    <tr>\n",
       "      <th>10</th>\n",
       "      <td>11.0</td>\n",
       "      <td>Zynyz</td>\n",
       "      <td>retifanlimab-dlwr</td>\n",
       "      <td>3/22/2023</td>\n",
       "      <td>To treat metastatic or recurrent locally advan...</td>\n",
       "    </tr>\n",
       "    <tr>\n",
       "      <th>11</th>\n",
       "      <td>12.0</td>\n",
       "      <td>Rezzayo</td>\n",
       "      <td>rezafungin</td>\n",
       "      <td>3/22/2023</td>\n",
       "      <td>To treat candidemia and invasive candidiasis</td>\n",
       "    </tr>\n",
       "    <tr>\n",
       "      <th>12</th>\n",
       "      <td>13.0</td>\n",
       "      <td>Joenja</td>\n",
       "      <td>leniolisib</td>\n",
       "      <td>3/24/2023</td>\n",
       "      <td>To treat activated phosphoinositide 3-kinase d...</td>\n",
       "    </tr>\n",
       "  </tbody>\n",
       "</table>\n",
       "</div>"
      ],
      "text/plain": [
       "     No.  Drug Name    Active Ingredient Approval Date  \\\n",
       "0    1.0    Leqembi       lecanemab-irmb      1/6/2023   \n",
       "1    2.0  Brenzavvy        bexagliflozin     1/20/2023   \n",
       "2    3.0   Jaypirca        pirtobrutinib     1/27/2023   \n",
       "3    4.0    Orserdu          elacestrant     1/27/2023   \n",
       "4    5.0  Jesduvroq          daprodustat      2/1/2023   \n",
       "5    6.0    Lamzede  velmanase alfa-tycv     2/16/2023   \n",
       "6    7.0   Filspari           sparsentan     2/17/2023   \n",
       "7    8.0  Skyclarys        omaveloxolone     2/28/2023   \n",
       "8    9.0   Zavzpret           zavegepant      3/9/2023   \n",
       "9   10.0     Daybue          trofinetide     3/10/2023   \n",
       "10  11.0      Zynyz    retifanlimab-dlwr     3/22/2023   \n",
       "11  12.0    Rezzayo           rezafungin     3/22/2023   \n",
       "12  13.0     Joenja           leniolisib     3/24/2023   \n",
       "\n",
       "                   FDA-approved use on approval date*  \n",
       "0         To treat Alzheimerâ€™s diseasePress Release  \n",
       "1   To improve glycemic control in adults with typ...  \n",
       "2   To treat relapsed or refractory mantle cell ly...  \n",
       "3   To treat estrogen receptor-positive, human epi...  \n",
       "4   To treat anemia caused by chronic kidney disea...  \n",
       "5   To treat non-central nervous system manifestat...  \n",
       "6   To reduce proteinuria in adults with primary i...  \n",
       "7                       To treat Friedrichâ€™s ataxia  \n",
       "8                                   To treat migraine  \n",
       "9                              To treat Rett syndrome  \n",
       "10  To treat metastatic or recurrent locally advan...  \n",
       "11       To treat candidemia and invasive candidiasis  \n",
       "12  To treat activated phosphoinositide 3-kinase d...  "
      ]
     },
     "execution_count": 3,
     "metadata": {},
     "output_type": "execute_result"
    }
   ],
   "source": [
    "# enter year\n",
    "year = str(input(\"Enter year: \"))\n",
    "name_file_cvs = year + \".csv\"\n",
    "name_file_excel = year + \".xlsx\"\n",
    "data_year = \"data_\" + year\n",
    "\n",
    "# load drugname\n",
    "import pandas as pd\n",
    "xl = pd.ExcelFile(name_file_excel)\n",
    "# xl.sheet_names\n",
    "df = xl.parse(\"Sheet\")\n",
    "df"
   ]
  },
  {
   "cell_type": "markdown",
   "id": "d26f5818",
   "metadata": {},
   "source": [
    "## Novel Drug Approvals with function"
   ]
  },
  {
   "cell_type": "code",
   "execution_count": 24,
   "id": "422a86d5",
   "metadata": {},
   "outputs": [],
   "source": [
    "def Novel_Drug_Approval(year):\n",
    "    # year = str(input(\"Enter year: \"))\n",
    "    year_str = str(year)\n",
    "    url = \"https://www.fda.gov/drugs/new-drugs-fda-cders-new-molecular-entities-and-new-therapeutic-biological-products/novel-drug-approvals-\" + year_str\n",
    "    name_file_cvs = year_str + \".csv\"\n",
    "    name_file_excel = year_str + \".xlsx\"\n",
    "    data_year = \"data_\" + year_str\n",
    "\n",
    "    # get and save csv file\n",
    "    import pandas as pd\n",
    "    df = pd.read_html(url)\n",
    "    df1 = df[0]\n",
    "    df2 = pd.DataFrame(df1)\n",
    "    data_year = df2.to_csv(name_file_cvs, index=None)\n",
    "\n",
    "    # convert csv to xlsx\n",
    "    from openpyxl import Workbook\n",
    "    import csv\n",
    "    wb = Workbook()\n",
    "    ws = wb.active\n",
    "    with open(name_file_cvs, 'r') as f:\n",
    "        for row in csv.reader(f):\n",
    "            ws.append(row)\n",
    "    wb.save(name_file_excel)\n",
    "    # merge all csv to xlsx\n",
    "    from pyexcel.cookbook import merge_all_to_a_book\n",
    "    # import pyexcel.ext.xlsx # no longer required if you use pyexcel >= 0.2.2 \n",
    "    import glob\n",
    "    merge_all_to_a_book(glob.glob(\"*.csv\"), \"_Novel_Drug_Approval_Data_All.xlsx\")"
   ]
  },
  {
   "cell_type": "code",
   "execution_count": 26,
   "id": "254b2fd5",
   "metadata": {},
   "outputs": [],
   "source": [
    "Novel_Drug_Approval(2023)"
   ]
  },
  {
   "cell_type": "markdown",
   "id": "77ddd798",
   "metadata": {},
   "source": [
    "## Novel Drug Approvals for 2023"
   ]
  },
  {
   "cell_type": "code",
   "execution_count": 15,
   "id": "337320b1",
   "metadata": {},
   "outputs": [],
   "source": [
    "# get and save csv file\n",
    "url = \"https://www.fda.gov/drugs/new-drugs-fda-cders-new-molecular-entities-and-new-therapeutic-biological-products/novel-drug-approvals-2023\"\n",
    "import pandas as pd\n",
    "\n",
    "df = pd.read_html(url)\n",
    "df1 = df[0]\n",
    "df2 = pd.DataFrame(df1)\n",
    "data_2023 = df2.to_csv('2023.csv', index=None)\n",
    "\n",
    "\n",
    "# convert csv to xlsx\n",
    "from openpyxl import Workbook\n",
    "import csv\n",
    "wb = Workbook()\n",
    "ws = wb.active\n",
    "with open('2023.csv', 'r') as f:\n",
    "    for row in csv.reader(f):\n",
    "        ws.append(row)\n",
    "wb.save('2023.xlsx')"
   ]
  },
  {
   "cell_type": "markdown",
   "id": "189675de",
   "metadata": {},
   "source": [
    "## Novel Drug Approvals for 2022"
   ]
  },
  {
   "cell_type": "code",
   "execution_count": 3,
   "id": "dbb5aa25",
   "metadata": {},
   "outputs": [],
   "source": [
    "url = \"https://www.fda.gov/drugs/new-drugs-fda-cders-new-molecular-entities-and-new-therapeutic-biological-products/novel-drug-approvals-2022\""
   ]
  },
  {
   "cell_type": "code",
   "execution_count": 4,
   "id": "2ab28a2b",
   "metadata": {},
   "outputs": [],
   "source": [
    "import pandas as pd\n",
    "\n",
    "def Novel_Drug_Approval_2022(url):\n",
    "\tdf = pd.read_html(url)\n",
    "\tdf1 = df[0]\n",
    "\tdf2 = pd.DataFrame(df1)\n",
    "\tdata_2022 = df2.to_csv('2022.csv', index=None)\n",
    "\treturn data_2022"
   ]
  },
  {
   "cell_type": "code",
   "execution_count": 5,
   "id": "c9526cce",
   "metadata": {},
   "outputs": [],
   "source": [
    "Novel_Drug_Approval_2022(url)"
   ]
  },
  {
   "cell_type": "code",
   "execution_count": 8,
   "id": "09ee432d",
   "metadata": {},
   "outputs": [],
   "source": [
    "# convert csv to xlsx\n",
    "from openpyxl import Workbook\n",
    "import csv\n",
    "\n",
    "\n",
    "wb = Workbook()\n",
    "ws = wb.active\n",
    "with open('2022.csv', 'r') as f:\n",
    "    for row in csv.reader(f):\n",
    "        ws.append(row)\n",
    "wb.save('2022.xlsx')"
   ]
  },
  {
   "cell_type": "markdown",
   "id": "498f1c41",
   "metadata": {},
   "source": [
    "## from 2015 to 2021"
   ]
  },
  {
   "cell_type": "code",
   "execution_count": null,
   "id": "c41756cb",
   "metadata": {},
   "outputs": [],
   "source": [
    "# %load \"Novel Drug Approvals.py\"\n",
    "import pandas as pd\n",
    "\n",
    "def Novel_Drug_Approval_2021(url):\n",
    "\tdf = pd.read_html(url)\n",
    "\tdf1 = df[0]\n",
    "\tdf2 = pd.DataFrame(df1)\n",
    "\tdata_2021 = df2.to_csv('2021.csv', index=None)\n",
    "\treturn data_2021\n",
    " \n",
    "def Novel_Drug_Approval_2020(url):\n",
    "\tdf = pd.read_html(url)\n",
    "\tdf1 = df[0]\n",
    "\tdf2 = pd.DataFrame(df1)\n",
    "\tdata_2020 = df2.to_csv('2020.csv', index=None)\n",
    "\treturn data_2020\n",
    "\n",
    "def Novel_Drug_Approval_2019(url):\n",
    "\tdf = pd.read_html(url)\n",
    "\tdf1 = df[0]\n",
    "\tdf2 = pd.DataFrame(df1)\n",
    "\tdata_2019 = df2.to_csv('2019.csv', index=None)\n",
    "\treturn data_2019\n",
    "\n",
    "def Novel_Drug_Approval_2018(url):\n",
    "\tdf = pd.read_html(url)\n",
    "\tdf1 = df[0]\n",
    "\tdf2 = pd.DataFrame(df1)\n",
    "\tdata_2018 = df2.to_csv('2018.csv', index=None)\n",
    "\treturn data_2018\n",
    "\n",
    "def Novel_Drug_Approval_2017(url):\n",
    "\tdf = pd.read_html(url)\n",
    "\tdf1 = df[0]\n",
    "\tdf2 = pd.DataFrame(df1)\n",
    "\tdata_2017 = df2.to_csv('2017.csv', index=None)\n",
    "\treturn data_2017\n",
    "\n",
    "def Novel_Drug_Approval_2016(url):\n",
    "\tdf = pd.read_html(url)\n",
    "\tdf1 = df[0]\n",
    "\tdf2 = pd.DataFrame(df1)\n",
    "\tdata_2016 = df2.to_csv('2016.csv', index=None)\n",
    "\treturn data_2016\n",
    "\n",
    "def Novel_Drug_Approval_2015(url):\n",
    "\tdf = pd.read_html(url)\n",
    "\tdf1 = df[0]\n",
    "\tdf2 = pd.DataFrame(df1)\n",
    "\tdata_2015 = df2.to_csv('2015.csv', index=None)\n",
    "\treturn data_2015\n",
    "\n",
    "\n",
    "print(Novel_Drug_Approval_2021('https://www.fda.gov/drugs/new-drugs-fda-cders-new-molecular-entities-and-new-therapeutic-biological-products/novel-drug-approvals-2021'))\n",
    "print(Novel_Drug_Approval_2020('https://www.fda.gov/drugs/new-drugs-fda-cders-new-molecular-entities-and-new-therapeutic-biological-products/novel-drug-approvals-2020'))\n",
    "print(Novel_Drug_Approval_2019('https://www.fda.gov/drugs/new-drugs-fda-cders-new-molecular-entities-and-new-therapeutic-biological-products/novel-drug-approvals-2019'))\n",
    "print(Novel_Drug_Approval_2018('https://www.fda.gov/drugs/new-drugs-fda-cders-new-molecular-entities-and-new-therapeutic-biological-products/novel-drug-approvals-2018'))\n",
    "print(Novel_Drug_Approval_2017('https://www.fda.gov/drugs/new-drugs-fda-cders-new-molecular-entities-and-new-therapeutic-biological-products/novel-drug-approvals-2017'))\n",
    "print(Novel_Drug_Approval_2016('https://www.fda.gov/drugs/new-drugs-fda-cders-new-molecular-entities-and-new-therapeutic-biological-products/novel-drug-approvals-2016'))\n",
    "print(Novel_Drug_Approval_2015('https://www.fda.gov/drugs/new-drugs-fda-cders-new-molecular-entities-and-new-therapeutic-biological-products/novel-drug-approvals-2015'))\n",
    "      "
   ]
  },
  {
   "cell_type": "markdown",
   "id": "0df39333",
   "metadata": {},
   "source": [
    "## Merge all csv to xlsx"
   ]
  },
  {
   "cell_type": "code",
   "execution_count": 11,
   "id": "5ef6bcd0",
   "metadata": {},
   "outputs": [],
   "source": [
    "# merge all csv to xlsx\n",
    "from pyexcel.cookbook import merge_all_to_a_book\n",
    "# import pyexcel.ext.xlsx # no longer required if you use pyexcel >= 0.2.2 \n",
    "import glob\n",
    "\n",
    "merge_all_to_a_book(glob.glob(\"*.csv\"), \"_Novel_Drug_Approval_Data_All.xlsx\")"
   ]
  },
  {
   "cell_type": "code",
   "execution_count": null,
   "id": "87095737",
   "metadata": {},
   "outputs": [],
   "source": []
  }
 ],
 "metadata": {
  "kernelspec": {
   "display_name": "Python 3 (ipykernel)",
   "language": "python",
   "name": "python3"
  },
  "language_info": {
   "codemirror_mode": {
    "name": "ipython",
    "version": 3
   },
   "file_extension": ".py",
   "mimetype": "text/x-python",
   "name": "python",
   "nbconvert_exporter": "python",
   "pygments_lexer": "ipython3",
   "version": "3.9.6"
  }
 },
 "nbformat": 4,
 "nbformat_minor": 5
}
